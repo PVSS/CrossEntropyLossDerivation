{
 "cells": [
  {
   "cell_type": "markdown",
   "metadata": {},
   "source": [
    "# Cross Entropy Loss - Finding Its Derivative"
   ]
  },
  {
   "cell_type": "markdown",
   "metadata": {},
   "source": [
    "Derivation of Derivative of Cross Entropy Loss. \n",
    "My latex Skills are bit shaky currently :( . So documenting the derivation as snapshots taken from my notebook.\n",
    "CS231n leaves this derivation as Home Work.\n",
    "\n",
    "Hoping it is useful.\n",
    "If you liked it or found issues in it mail me at prakashpvss@gmail.com"
   ]
  },
  {
   "cell_type": "markdown",
   "metadata": {},
   "source": [
    "\"![](Page1_1.jpg)\","
   ]
  },
  {
   "cell_type": "markdown",
   "metadata": {},
   "source": [
    "\"![](Page2_1.jpg)\","
   ]
  },
  {
   "cell_type": "markdown",
   "metadata": {},
   "source": [
    "\"![](Page3_1.jpg)\","
   ]
  },
  {
   "cell_type": "code",
   "execution_count": null,
   "metadata": {
    "collapsed": true
   },
   "outputs": [],
   "source": []
  }
 ],
 "metadata": {
  "anaconda-cloud": {},
  "kernelspec": {
   "display_name": "Python [default]",
   "language": "python",
   "name": "python3"
  },
  "language_info": {
   "codemirror_mode": {
    "name": "ipython",
    "version": 3
   },
   "file_extension": ".py",
   "mimetype": "text/x-python",
   "name": "python",
   "nbconvert_exporter": "python",
   "pygments_lexer": "ipython3",
   "version": "3.5.2"
  }
 },
 "nbformat": 4,
 "nbformat_minor": 1
}
